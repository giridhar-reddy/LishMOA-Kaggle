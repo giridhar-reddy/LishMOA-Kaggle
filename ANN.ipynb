{
 "cells": [
  {
   "cell_type": "code",
   "execution_count": 1,
   "metadata": {
    "_cell_guid": "b1076dfc-b9ad-4769-8c92-a6c4dae69d19",
    "_uuid": "8f2839f25d086af736a60e9eeb907d3b93b6e0e5",
    "execution": {
     "iopub.execute_input": "2020-10-08T13:54:25.910979Z",
     "iopub.status.busy": "2020-10-08T13:54:25.910100Z",
     "iopub.status.idle": "2020-10-08T13:54:33.142571Z",
     "shell.execute_reply": "2020-10-08T13:54:33.141775Z"
    },
    "papermill": {
     "duration": 7.249197,
     "end_time": "2020-10-08T13:54:33.142739",
     "exception": false,
     "start_time": "2020-10-08T13:54:25.893542",
     "status": "completed"
    },
    "tags": []
   },
   "outputs": [],
   "source": [
    "import numpy as np # linear algebra\n",
    "import pandas as pd # data processing, CSV file I/O (e.g. pd.read_csv)\n",
    "import os\n",
    "\n",
    "from sklearn.model_selection import train_test_split\n",
    "\n",
    "import keras\n",
    "from keras import Sequential\n",
    "from keras.layers import Dense,Dropout\n",
    "from keras import backend as K\n",
    "from keras.constraints import Constraint\n",
    "\n",
    "import tensorflow as tf"
   ]
  },
  {
   "cell_type": "code",
   "execution_count": 2,
   "metadata": {
    "execution": {
     "iopub.execute_input": "2020-10-08T13:54:33.174108Z",
     "iopub.status.busy": "2020-10-08T13:54:33.173317Z",
     "iopub.status.idle": "2020-10-08T13:54:38.848146Z",
     "shell.execute_reply": "2020-10-08T13:54:38.848743Z"
    },
    "papermill": {
     "duration": 5.698738,
     "end_time": "2020-10-08T13:54:38.848925",
     "exception": false,
     "start_time": "2020-10-08T13:54:33.150187",
     "status": "completed"
    },
    "tags": []
   },
   "outputs": [],
   "source": [
    "t = pd.read_csv('../input/lish-moa/train_features.csv')\n",
    "tt = pd.read_csv('../input/lish-moa/train_targets_scored.csv')\n",
    "\n",
    "tt = tt[t[\"cp_type\"]!=\"ctl_vehicle\"]\n",
    "t = t[t[\"cp_type\"]!=\"ctl_vehicle\"]\n",
    "\n",
    "n_g = 772\n",
    "n_c = 100\n",
    "\n",
    "g_cols = [\"g-\"+str(i) for i in range(n_g)]\n",
    "c_cols = [\"c-\"+str(i) for i in range(n_c)]\n",
    "\n",
    "X = t[t.columns[4:]]\n",
    "y = tt[tt.columns[1:]]\n",
    "\n",
    "X_train,X_test,y_train,y_test = train_test_split(X,y,test_size=0.2)"
   ]
  },
  {
   "cell_type": "code",
   "execution_count": 3,
   "metadata": {
    "execution": {
     "iopub.execute_input": "2020-10-08T13:54:38.875152Z",
     "iopub.status.busy": "2020-10-08T13:54:38.872377Z",
     "iopub.status.idle": "2020-10-08T13:55:40.118469Z",
     "shell.execute_reply": "2020-10-08T13:55:40.117577Z"
    },
    "papermill": {
     "duration": 61.262351,
     "end_time": "2020-10-08T13:55:40.118604",
     "exception": false,
     "start_time": "2020-10-08T13:54:38.856253",
     "status": "completed"
    },
    "tags": []
   },
   "outputs": [
    {
     "name": "stdout",
     "output_type": "stream",
     "text": [
      "Epoch 1/100\n",
      "549/549 [==============================] - 2s 4ms/step - loss: 0.0482 - accuracy: 0.0411 - val_loss: 0.0218 - val_accuracy: 0.0606\n",
      "Epoch 2/100\n",
      "549/549 [==============================] - 2s 4ms/step - loss: 0.0230 - accuracy: 0.0732 - val_loss: 0.0205 - val_accuracy: 0.0920\n",
      "Epoch 3/100\n",
      "549/549 [==============================] - 2s 4ms/step - loss: 0.0213 - accuracy: 0.0878 - val_loss: 0.0203 - val_accuracy: 0.1007\n",
      "Epoch 4/100\n",
      "549/549 [==============================] - 2s 4ms/step - loss: 0.0202 - accuracy: 0.0976 - val_loss: 0.0206 - val_accuracy: 0.1098\n",
      "Epoch 5/100\n",
      "549/549 [==============================] - 2s 4ms/step - loss: 0.0195 - accuracy: 0.1010 - val_loss: 0.0205 - val_accuracy: 0.1089\n",
      "Epoch 6/100\n",
      "549/549 [==============================] - 2s 3ms/step - loss: 0.0189 - accuracy: 0.1044 - val_loss: 0.0201 - val_accuracy: 0.1080\n",
      "Epoch 7/100\n",
      "549/549 [==============================] - 2s 4ms/step - loss: 0.0183 - accuracy: 0.1119 - val_loss: 0.0194 - val_accuracy: 0.1144\n",
      "Epoch 8/100\n",
      "549/549 [==============================] - 2s 4ms/step - loss: 0.0178 - accuracy: 0.1115 - val_loss: 0.0188 - val_accuracy: 0.1180\n",
      "Epoch 9/100\n",
      "549/549 [==============================] - 2s 4ms/step - loss: 0.0175 - accuracy: 0.1183 - val_loss: 0.0180 - val_accuracy: 0.1216\n",
      "Epoch 10/100\n",
      "549/549 [==============================] - 2s 4ms/step - loss: 0.0171 - accuracy: 0.1232 - val_loss: 0.0178 - val_accuracy: 0.1244\n",
      "Epoch 11/100\n",
      "549/549 [==============================] - 2s 4ms/step - loss: 0.0170 - accuracy: 0.1215 - val_loss: 0.0175 - val_accuracy: 0.1244\n",
      "Epoch 12/100\n",
      "549/549 [==============================] - 2s 3ms/step - loss: 0.0167 - accuracy: 0.1262 - val_loss: 0.0175 - val_accuracy: 0.1246\n",
      "Epoch 13/100\n",
      "549/549 [==============================] - 2s 3ms/step - loss: 0.0165 - accuracy: 0.1289 - val_loss: 0.0173 - val_accuracy: 0.1246\n",
      "Epoch 14/100\n",
      "549/549 [==============================] - 2s 4ms/step - loss: 0.0164 - accuracy: 0.1320 - val_loss: 0.0173 - val_accuracy: 0.1278\n",
      "Epoch 15/100\n",
      "549/549 [==============================] - 2s 4ms/step - loss: 0.0162 - accuracy: 0.1379 - val_loss: 0.0173 - val_accuracy: 0.1216\n",
      "Epoch 16/100\n",
      "549/549 [==============================] - 2s 4ms/step - loss: 0.0160 - accuracy: 0.1398 - val_loss: 0.0172 - val_accuracy: 0.1344\n",
      "Epoch 17/100\n",
      "549/549 [==============================] - 2s 3ms/step - loss: 0.0159 - accuracy: 0.1383 - val_loss: 0.0171 - val_accuracy: 0.1330\n",
      "Epoch 18/100\n",
      "549/549 [==============================] - 2s 4ms/step - loss: 0.0158 - accuracy: 0.1414 - val_loss: 0.0171 - val_accuracy: 0.1301\n",
      "Epoch 19/100\n",
      "549/549 [==============================] - 2s 4ms/step - loss: 0.0157 - accuracy: 0.1464 - val_loss: 0.0172 - val_accuracy: 0.1287\n",
      "Epoch 20/100\n",
      "549/549 [==============================] - 2s 4ms/step - loss: 0.0155 - accuracy: 0.1489 - val_loss: 0.0171 - val_accuracy: 0.1344\n",
      "Epoch 21/100\n",
      "549/549 [==============================] - 2s 4ms/step - loss: 0.0153 - accuracy: 0.1550 - val_loss: 0.0171 - val_accuracy: 0.1355\n",
      "Epoch 22/100\n",
      "549/549 [==============================] - 2s 3ms/step - loss: 0.0153 - accuracy: 0.1569 - val_loss: 0.0171 - val_accuracy: 0.1337\n",
      "Epoch 23/100\n",
      "549/549 [==============================] - 2s 3ms/step - loss: 0.0150 - accuracy: 0.1593 - val_loss: 0.0171 - val_accuracy: 0.1339\n",
      "Epoch 24/100\n",
      "549/549 [==============================] - 2s 3ms/step - loss: 0.0149 - accuracy: 0.1670 - val_loss: 0.0172 - val_accuracy: 0.1462\n",
      "Epoch 25/100\n",
      "549/549 [==============================] - 2s 3ms/step - loss: 0.0148 - accuracy: 0.1659 - val_loss: 0.0173 - val_accuracy: 0.1351\n",
      "Epoch 26/100\n",
      "549/549 [==============================] - 2s 3ms/step - loss: 0.0149 - accuracy: 0.1609 - val_loss: 0.0172 - val_accuracy: 0.1328\n",
      "Epoch 27/100\n",
      "549/549 [==============================] - 2s 3ms/step - loss: 0.0147 - accuracy: 0.1637 - val_loss: 0.0173 - val_accuracy: 0.1346\n",
      "Epoch 28/100\n",
      "549/549 [==============================] - 2s 3ms/step - loss: 0.0145 - accuracy: 0.1716 - val_loss: 0.0173 - val_accuracy: 0.1645\n",
      "Epoch 29/100\n",
      "549/549 [==============================] - 2s 3ms/step - loss: 0.0145 - accuracy: 0.1758 - val_loss: 0.0173 - val_accuracy: 0.1339\n",
      "Epoch 30/100\n",
      "549/549 [==============================] - 2s 3ms/step - loss: 0.0145 - accuracy: 0.1765 - val_loss: 0.0173 - val_accuracy: 0.1360\n"
     ]
    },
    {
     "data": {
      "text/plain": [
       "<tensorflow.python.keras.callbacks.History at 0x7fcc8ab915d0>"
      ]
     },
     "execution_count": 3,
     "metadata": {},
     "output_type": "execute_result"
    }
   ],
   "source": [
    "model = Sequential()\n",
    "\n",
    "model.add(Dense(200, input_dim=872, activation='relu'))\n",
    "model.add(keras.layers.Dropout(0.5))\n",
    "model.add(Dense(100, activation='relu'))\n",
    "model.add(keras.layers.Dropout(0.5))\n",
    "model.add(Dense(100, activation='relu'))\n",
    "model.add(Dense(206, activation='sigmoid'))\n",
    "model.compile(loss='binary_crossentropy', optimizer='adam', metrics=['accuracy'])\n",
    "\n",
    "my_callbacks = [tf.keras.callbacks.EarlyStopping(monitor='val_loss', patience=10, mode=\"min\", restore_best_weights=True)]\n",
    "\n",
    "model.fit(X_train,y_train,\n",
    "          validation_data=(X_test, y_test),\n",
    "          callbacks=my_callbacks,\n",
    "          epochs=100)"
   ]
  },
  {
   "cell_type": "code",
   "execution_count": 4,
   "metadata": {
    "execution": {
     "iopub.execute_input": "2020-10-08T13:55:40.988834Z",
     "iopub.status.busy": "2020-10-08T13:55:40.987637Z",
     "iopub.status.idle": "2020-10-08T13:55:42.484335Z",
     "shell.execute_reply": "2020-10-08T13:55:42.485084Z"
    },
    "papermill": {
     "duration": 1.933632,
     "end_time": "2020-10-08T13:55:42.485243",
     "exception": false,
     "start_time": "2020-10-08T13:55:40.551611",
     "status": "completed"
    },
    "tags": []
   },
   "outputs": [
    {
     "name": "stdout",
     "output_type": "stream",
     "text": [
      "549/549 [==============================] - 1s 2ms/step - loss: 0.0138 - accuracy: 0.1883\n",
      "138/138 [==============================] - 0s 2ms/step - loss: 0.0171 - accuracy: 0.1344\n"
     ]
    },
    {
     "data": {
      "text/plain": [
       "[0.017056748270988464, 0.13439635932445526]"
      ]
     },
     "execution_count": 4,
     "metadata": {},
     "output_type": "execute_result"
    }
   ],
   "source": [
    "model.evaluate(X_train,y_train)\n",
    "model.evaluate(X_test,y_test)"
   ]
  },
  {
   "cell_type": "code",
   "execution_count": 5,
   "metadata": {
    "execution": {
     "iopub.execute_input": "2020-10-08T13:55:43.393111Z",
     "iopub.status.busy": "2020-10-08T13:55:43.391356Z",
     "iopub.status.idle": "2020-10-08T13:55:44.553510Z",
     "shell.execute_reply": "2020-10-08T13:55:44.552845Z"
    },
    "papermill": {
     "duration": 1.625591,
     "end_time": "2020-10-08T13:55:44.553634",
     "exception": false,
     "start_time": "2020-10-08T13:55:42.928043",
     "status": "completed"
    },
    "tags": []
   },
   "outputs": [],
   "source": [
    "s = pd.read_csv('../input/lish-moa/test_features.csv')\n",
    "sX = s[s.columns[4:]]\n",
    "\n",
    "sy = model.predict(sX)\n",
    "\n",
    "st = pd.DataFrame(data=sy, columns=y.columns)\n",
    "st[\"sig_id\"] = s[\"sig_id\"]\n",
    "\n",
    "st.loc[s[\"cp_type\"]==\"ctl_vehicle\",y.columns] = 0"
   ]
  },
  {
   "cell_type": "code",
   "execution_count": 6,
   "metadata": {
    "execution": {
     "iopub.execute_input": "2020-10-08T13:55:45.456196Z",
     "iopub.status.busy": "2020-10-08T13:55:45.455415Z",
     "iopub.status.idle": "2020-10-08T13:55:47.312941Z",
     "shell.execute_reply": "2020-10-08T13:55:47.312129Z"
    },
    "papermill": {
     "duration": 2.310546,
     "end_time": "2020-10-08T13:55:47.313073",
     "exception": false,
     "start_time": "2020-10-08T13:55:45.002527",
     "status": "completed"
    },
    "tags": []
   },
   "outputs": [],
   "source": [
    "st.to_csv(\"submission.csv\", index=False)"
   ]
  }
 ],
 "metadata": {
  "kernelspec": {
   "display_name": "Python 3",
   "language": "python",
   "name": "python3"
  },
  "language_info": {
   "codemirror_mode": {
    "name": "ipython",
    "version": 3
   },
   "file_extension": ".py",
   "mimetype": "text/x-python",
   "name": "python",
   "nbconvert_exporter": "python",
   "pygments_lexer": "ipython3",
   "version": "3.7.6"
  },
  "papermill": {
   "duration": 86.98146,
   "end_time": "2020-10-08T13:55:47.877228",
   "environment_variables": {},
   "exception": null,
   "input_path": "__notebook__.ipynb",
   "output_path": "__notebook__.ipynb",
   "parameters": {},
   "start_time": "2020-10-08T13:54:20.895768",
   "version": "2.1.0"
  }
 },
 "nbformat": 4,
 "nbformat_minor": 4
}
